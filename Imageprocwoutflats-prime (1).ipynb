{
 "cells": [
  {
   "cell_type": "code",
   "execution_count": 1,
   "metadata": {
    "papermill": {
     "duration": 0.026796,
     "end_time": "2020-05-13T12:18:12.375499",
     "exception": false,
     "start_time": "2020-05-13T12:18:12.348703",
     "status": "completed"
    },
    "tags": [
     "injected-parameters"
    ]
   },
   "outputs": [],
   "source": [
    "# Parameters\n",
    "home = \"D:\\\\Sharpcap\\\\2020-02-23\\\\Capture\\\\smallcaps\\\\34g-9ms-1200-1600-0\\\\7\"\n",
    "nsig = 3\n"
   ]
  },
  {
   "cell_type": "code",
   "execution_count": 2,
   "metadata": {
    "code_folding": [],
    "papermill": {
     "duration": 4.471941,
     "end_time": "2020-05-13T12:18:16.857377",
     "exception": false,
     "start_time": "2020-05-13T12:18:12.385436",
     "status": "completed"
    },
    "tags": []
   },
   "outputs": [],
   "source": [
    "#Libraries\n",
    "import numpy as np\n",
    "import astropy as ap\n",
    "import math\n",
    "import time\n",
    "from copy import copy\n",
    "import matplotlib.pyplot as plt\n",
    "import photutils\n",
    "from astropy.io import fits\n",
    "from astropy.stats import sigma_clipped_stats, SigmaClip\n",
    "from photutils import centroid_com, centroid_1dg, centroid_2dg,find_peaks, StdBackgroundRMS,fit_2dgaussian\n",
    "from astropy.io.fits import getheader\n",
    "import scipy.optimize as opt\n",
    "import os\n",
    "from astropy import units as u\n",
    "import matplotlib.colors as colors\n",
    "from astropy.wcs import WCS\n",
    "import shutil\n",
    "from copy import copy\n",
    "from photutils import detect_threshold\n",
    "import glob\n",
    "from photutils import detect_sources\n",
    "from ccdproc import cosmicray_lacosmic as lacosmic\n",
    "from natsort import natsorted\n",
    "import shutil\n",
    "from photutils import source_properties\n",
    "import fnmatch\n",
    "from astropy.convolution import Gaussian2DKernel\n",
    "from astropy.stats import gaussian_fwhm_to_sigma\n",
    "import sys\n",
    "args=sys.argv\n",
    "import papermill as pm"
   ]
  },
  {
   "cell_type": "code",
   "execution_count": 3,
   "metadata": {
    "papermill": {
     "duration": 0.024934,
     "end_time": "2020-05-13T12:18:16.893277",
     "exception": false,
     "start_time": "2020-05-13T12:18:16.868343",
     "status": "completed"
    },
    "tags": []
   },
   "outputs": [],
   "source": [
    "# os.chdir(r'D:\\Sharpcap\\2020-02-23\\Capture\\smallcaps\\34g-9ms-1200-1600-0\\3\\calibrated')\n",
    "# data=fits.getdata('calibrated503.fits')\n",
    "# if data.max() > 6000:\n",
    "#     print(data.argmax())\n",
    "#     print('Saturation warning')"
   ]
  },
  {
   "cell_type": "code",
   "execution_count": 4,
   "metadata": {
    "papermill": {
     "duration": 0.048867,
     "end_time": "2020-05-13T12:18:16.952117",
     "exception": false,
     "start_time": "2020-05-13T12:18:16.903250",
     "status": "completed"
    },
    "tags": []
   },
   "outputs": [],
   "source": [
    "# maxind = np.unravel_index(np.argmax(data, axis=None), data.shape)\n",
    "# ind"
   ]
  },
  {
   "cell_type": "code",
   "execution_count": 5,
   "metadata": {
    "code_folding": [],
    "papermill": {
     "duration": 0.064815,
     "end_time": "2020-05-13T12:18:17.026918",
     "exception": false,
     "start_time": "2020-05-13T12:18:16.962103",
     "status": "completed"
    },
    "tags": []
   },
   "outputs": [],
   "source": [
    "def jeffwrite(s,e):\n",
    "            w=1\n",
    "            os.chdir(light)\n",
    "            lightfiles=glob.glob('Capture*fits')\n",
    "            os.chdir(dark)\n",
    "            darkcube=glob.glob('Capture*fits')\n",
    "            raw_image_data = {}\n",
    "            for image_name in darkcube: raw_image_data[image_name] = fits.getdata(image_name)\n",
    "            darkcube=natsorted(darkcube)\n",
    "            darkcube = np.stack([raw_image_data[science_frame] for science_frame in darkcube],axis=0)\n",
    "            darkmed= np.median(darkcube, axis=0)\n",
    "            darkcube=[]\n",
    "            arra=np.zeros((darkmed.shape[0],darkmed.shape[1]))\n",
    "            whynot=copy(arra)\n",
    "            #arbitrarily defined as it just needs to be sufficiently high to show where a bright pixel was recorded. \n",
    "            arb=100000\n",
    "            for t in range(s,e): \n",
    "                try:\n",
    "                    if t%150==0:\n",
    "                        print(t)\n",
    "                    os.chdir(light)             \n",
    "                    processed=fits.getdata(lightfiles[t])-darkmed\n",
    "                    hdr=fits.Header()\n",
    "                    hdr=getheader(lightfiles[t])\n",
    "                    proc=copy(processed)\n",
    "                    if t==s:\n",
    "                        threshold3 = detect_threshold(proc, nsigma=nsig)\n",
    "                    arra=arra+(proc-np.mean(proc)) \n",
    "                    proc[proc<threshold3]=0\n",
    "                    proc[proc>threshold3]=arb\n",
    "                    whynot=whynot+proc \n",
    "                    f = 'calibrated'+str(t+1)+'.fits'\n",
    "                    cal=home + '\\calibrated'\n",
    "                    path = os.path.join(cal, f) \n",
    "                    if os.path.exists(path)== True:\n",
    "                        os.remove(path) \n",
    "                    os.chdir(cal)\n",
    "                    \n",
    "                    data    = processed\n",
    "                    hduprim = fits.PrimaryHDU(data,header=hdr)\n",
    "                    hdul    = fits.HDUList([hduprim])\n",
    "                    hduprim.scale('int32', bzero=0)\n",
    "                    hdul.writeto('calibrated'+str(t+1)+'.fits', overwrite=True,output_verify='ignore')\n",
    "#                 #In the case that a file is corrupted  \n",
    "                except TypeError:\n",
    "                    print('There was an error with this file:'+str(lightfiles[t])+'....deletion is suggested')\n",
    "                    continue\n",
    "            os.chdir(cal)   \n",
    "            hdr     = fits.Header()\n",
    "            data = np.int64(arra)\n",
    "            hduprim = fits.PrimaryHDU(data,header=hdr)\n",
    "            hdul    = fits.HDUList([hduprim])\n",
    "            hdul.writeto('stackedmean.fits', overwrite=True,output_verify='ignore') \n",
    "            #approximate estimate as to the serious influence a star will be able to impart to neighbouring stars\n",
    "            #This can be mathmatically assumed later from the sky position and angular speed but 15 pixels\n",
    "            \n",
    "            data = np.int64(whynot)\n",
    "            hdr     = fits.Header()\n",
    "            hduprim = fits.PrimaryHDU(data,header=hdr)\n",
    "            hdul    = fits.HDUList([hduprim])\n",
    "            hdul.writeto('trail.fits', overwrite=True,output_verify='ignore') \n",
    "            \n",
    "            whynot[whynot>10*arb]=0\n",
    "            data = np.int64(whynot)\n",
    "            hdr     = fits.Header()\n",
    "            hduprim = fits.PrimaryHDU(data,header=hdr)\n",
    "            hdul    = fits.HDUList([hduprim])\n",
    "            hdul.writeto('trailcap.fits', overwrite=True,output_verify='ignore') \n",
    "            return(arra,proc)"
   ]
  },
  {
   "cell_type": "markdown",
   "metadata": {
    "papermill": {
     "duration": 0.006982,
     "end_time": "2020-05-13T12:18:17.049856",
     "exception": false,
     "start_time": "2020-05-13T12:18:17.042874",
     "status": "completed"
    },
    "tags": []
   },
   "source": [
    "# Access the relavant directory/files"
   ]
  },
  {
   "cell_type": "code",
   "execution_count": 6,
   "metadata": {
    "papermill": {
     "duration": 0.569299,
     "end_time": "2020-05-13T12:18:17.636110",
     "exception": false,
     "start_time": "2020-05-13T12:18:17.066811",
     "status": "completed"
    },
    "tags": []
   },
   "outputs": [],
   "source": [
    "#light and dark must be named 'light' and 'dark' for ease of use\n",
    "os.chdir(home)\n",
    "light=home\n",
    "dark=os.path.dirname(home)+r'\\dark'\n",
    "if os.path.exists('calibrated')== False:\n",
    "     os.mkdir('calibrated')\n",
    "cal=home + '\\calibrated'        "
   ]
  },
  {
   "cell_type": "code",
   "execution_count": 7,
   "metadata": {
    "papermill": {
     "duration": 182.146571,
     "end_time": "2020-05-13T12:21:19.796645",
     "exception": false,
     "start_time": "2020-05-13T12:18:17.650074",
     "status": "completed"
    },
    "tags": []
   },
   "outputs": [
    {
     "name": "stdout",
     "output_type": "stream",
     "text": [
      "0\n"
     ]
    },
    {
     "name": "stderr",
     "output_type": "stream",
     "text": [
      "WARNING: VerifyWarning: Verification reported errors: [astropy.io.fits.verify]\n",
      "WARNING: VerifyWarning: Card 'CCD-TEMP' is not FITS standard (invalid value string: '-Infinity /').  Fixed 'CCD-TEMP' card to meet the FITS standard. [astropy.io.fits.verify]\n",
      "WARNING: VerifyWarning: Note: astropy.io.fits uses zero-based indexing.\n",
      " [astropy.io.fits.verify]\n"
     ]
    },
    {
     "name": "stdout",
     "output_type": "stream",
     "text": [
      "150\n",
      "300\n",
      "450\n"
     ]
    }
   ],
   "source": [
    "os.chdir(light)\n",
    "if 'start' not in locals():\n",
    "    start=0\n",
    "if 'end' not in locals():\n",
    "    end=len(glob.glob('Capture*fits'))  \n",
    "#jefftry(first file,last file assignment)\n",
    "ar,gath=jeffwrite(start,end)\n",
    "#jeffwrite(start,end)"
   ]
  }
 ],
 "metadata": {
  "kernelspec": {
   "display_name": "Python 3",
   "language": "python",
   "name": "python3"
  },
  "language_info": {
   "codemirror_mode": {
    "name": "ipython",
    "version": 3
   },
   "file_extension": ".py",
   "mimetype": "text/x-python",
   "name": "python",
   "nbconvert_exporter": "python",
   "pygments_lexer": "ipython3",
   "version": "3.7.3"
  },
  "papermill": {
   "duration": 189.749583,
   "end_time": "2020-05-13T12:21:20.323245",
   "environment_variables": {},
   "exception": null,
   "input_path": "C:\\Users\\roryf\\Downloads\\A Honours project\\Comp\\Imageprocwoutflats-prime.ipynb",
   "output_path": "C:\\Users\\roryf\\Downloads\\A Honours project\\Comp\\Imageprocwoutflats-prime.ipynb",
   "parameters": {
    "home": "D:\\Sharpcap\\2020-02-23\\Capture\\smallcaps\\34g-9ms-1200-1600-0\\7",
    "nsig": 3
   },
   "start_time": "2020-05-13T12:18:10.573662",
   "version": "1.2.1"
  }
 },
 "nbformat": 4,
 "nbformat_minor": 2
}
